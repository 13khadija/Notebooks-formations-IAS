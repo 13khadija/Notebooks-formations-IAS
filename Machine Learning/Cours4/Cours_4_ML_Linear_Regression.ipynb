{
  "cells": [
    {
      "cell_type": "markdown",
      "metadata": {
        "id": "view-in-github"
      },
      "source": [
        "<a href=\"https://colab.research.google.com/github/kirenz/linear-regression/blob/master/notebooks/Linear-Regression.ipynb\" target=\"_parent\"><img src=\"https://colab.research.google.com/assets/colab-badge.svg\" alt=\"Open In Colab\"/></a>\n",
        "\n",
        "# Institut des Algorithmes du Sénégal\n",
        "\n",
        "\n",
        "https://github.com/kirenz/linear-regression"
      ]
    },
    {
      "cell_type": "markdown",
      "metadata": {
        "id": "W1ENOi7aPQNE"
      },
      "source": [
        "<!--BOOK_INFORMATION-->\n",
        "<img align=\"left\" style=\"padding-right:10px;\" src=\"https://github.com/jakevdp/PythonDataScienceHandbook/blob/master/notebooks/figures/PDSH-cover-small.png?raw=1\">\n",
        "\n",
        "*This notebook contains an excerpt from the [Python Data Science Handbook](http://shop.oreilly.com/product/0636920034919.do) by Jake VanderPlas; the content is available [on GitHub](https://github.com/jakevdp/PythonDataScienceHandbook).*\n",
        "\n",
        "*The text is released under the [CC-BY-NC-ND license](https://creativecommons.org/licenses/by-nc-nd/3.0/us/legalcode), and code is released under the [MIT license](https://opensource.org/licenses/MIT).\n",
        "\n",
        "please visit our plateform [Institut des Algorithmes du Sénégal](https://www.ias.sn/)!"
      ]
    },
    {
      "cell_type": "markdown",
      "metadata": {
        "id": "DsgMIPSwPQNL"
      },
      "source": [
        "# In Depth: Linear Regression\n",
        "\n",
        "\n",
        "![image.png](attachment:image.png)"
      ]
    },
    {
      "cell_type": "markdown",
      "metadata": {
        "id": "FJVPbzUMPQNL"
      },
      "source": [
        "Just as naive Bayes (discussed earlier in [In Depth: Naive Bayes Classification](05.05-Naive-Bayes.ipynb)) is a good starting point for classification tasks, linear regression models are a good starting point for regression tasks.\n",
        "Such models are popular because they can be fit very quickly, and are very interpretable.\n",
        "You are probably familiar with the simplest form of a linear regression model (i.e., fitting a straight line to data) but such models can be extended to model more complicated data behavior.\n",
        "\n",
        "In this section we will start with a quick intuitive walk-through of the mathematics behind this well-known problem, before seeing how before moving on to see how linear models can be generalized to account for more complicated patterns in data.\n",
        "\n",
        "We begin with the standard imports:"
      ]
    },
    {
      "cell_type": "code",
      "execution_count": null,
      "metadata": {
        "id": "mA9r5JBjPQNM"
      },
      "outputs": [],
      "source": [
        "%matplotlib inline\n",
        "import pandas as pd\n",
        "import matplotlib.pyplot as plt\n",
        "import seaborn as sns; \n",
        "sns.set()\n",
        "import numpy as np"
      ]
    },
    {
      "cell_type": "markdown",
      "metadata": {
        "id": "umPzed61PQNN"
      },
      "source": [
        "## Simple Linear Regression\n",
        "\n",
        "We will start with the most familiar linear regression, a straight-line fit to data.\n",
        "A straight-line fit is a model of the form\n",
        "$$\n",
        "y = ax + b\n",
        "$$\n",
        "where $a$ is commonly known as the *slope*, and $b$ is commonly known as the *intercept*.\n",
        "\n",
        "Consider the following data, which is scattered about a line with a slope of 2 and an intercept of -5:"
      ]
    },
    {
      "cell_type": "code",
      "execution_count": null,
      "metadata": {
        "id": "WYMETmJ0PQNO",
        "outputId": "6930b2c1-c06b-463b-c8b7-ff3e5a1208d8"
      },
      "outputs": [
        {
          "data": {
            "image/png": "[encoded data removed]",
            "text/plain": [
              "<Figure size 432x288 with 1 Axes>"
            ]
          },
          "metadata": {},
          "output_type": "display_data"
        }
      ],
      "source": [
        "rng = np.random.RandomState(1)\n",
        "x = 10 * rng.rand(50)\n",
        "y = 2 * x - 5 + rng.randn(50)\n",
        "plt.scatter(x, y);"
      ]
    },
    {
      "cell_type": "markdown",
      "metadata": {
        "id": "G_2MsE2jPQNP"
      },
      "source": [
        "We can use Scikit-Learn's ``LinearRegression`` estimator to fit this data and construct the best-fit line:"
      ]
    },
    {
      "cell_type": "code",
      "execution_count": null,
      "metadata": {
        "id": "q8d75nOFPQNQ"
      },
      "outputs": [],
      "source": [
        "from sklearn.linear_model import LinearRegression\n",
        "model = LinearRegression(fit_intercept=True)\n",
        "\n",
        "model.fit(x[:, np.newaxis], y)\n",
        "\n",
        "xfit = np.linspace(0, 10, 1000)\n",
        "yfit = model.predict(xfit[:, np.newaxis])\n",
        "\n",
        "plt.scatter(x, y)\n",
        "plt.plot(xfit, yfit);"
      ]
    },
    {
      "cell_type": "markdown",
      "metadata": {
        "id": "LWGlYAxlPQNR"
      },
      "source": [
        "The slope and intercept of the data are contained in the model's fit parameters, which in Scikit-Learn are always marked by a trailing underscore.\n",
        "Here the relevant parameters are ``coef_`` and ``intercept_``:"
      ]
    },
    {
      "cell_type": "code",
      "execution_count": null,
      "metadata": {
        "id": "eDFur0OlPQNS",
        "outputId": "4c44aed7-2066-44f4-84ce-c25f0283d360"
      },
      "outputs": [
        {
          "name": "stdout",
          "output_type": "stream",
          "text": [
            "Model slope:     2.027208810360695\n",
            "Model intercept: -4.998577085553202\n"
          ]
        }
      ],
      "source": [
        "print(\"Model slope:    \", model.coef_[0])\n",
        "print(\"Model intercept:\", model.intercept_)"
      ]
    },
    {
      "cell_type": "markdown",
      "metadata": {
        "id": "szVwrSHIPQNS"
      },
      "source": [
        "We see that the results are very close to the inputs, as we might hope."
      ]
    },
    {
      "cell_type": "markdown",
      "metadata": {
        "id": "gq-0GWMiPQNS"
      },
      "source": [
        "The ``LinearRegression`` estimator is much more capable than this, however—in addition to simple straight-line fits, it can also handle multidimensional linear models of the form\n",
        "$$\n",
        "y = a_0 + a_1 x_1 + a_2 x_2 + \\cdots\n",
        "$$\n",
        "where there are multiple $x$ values.\n",
        "Geometrically, this is akin to fitting a plane to points in three dimensions, or fitting a hyper-plane to points in higher dimensions.\n",
        "\n",
        "The multidimensional nature of such regressions makes them more difficult to visualize, but we can see one of these fits in action by building some example data, using NumPy's matrix multiplication operator:"
      ]
    },
    {
      "cell_type": "code",
      "execution_count": null,
      "metadata": {
        "id": "h50OXbu3PQNT",
        "outputId": "330459c1-4db2-460f-ddc9-2863d58e2f6d"
      },
      "outputs": [
        {
          "name": "stdout",
          "output_type": "stream",
          "text": [
            "0.5000000000000127\n",
            "[ 1.5 -2.   1. ]\n"
          ]
        }
      ],
      "source": [
        "rng = np.random.RandomState(1)\n",
        "X = 10 * rng.rand(100, 3)\n",
        "y = 0.5 + np.dot(X, [1.5, -2., 1.])\n",
        "\n",
        "model.fit(X, y)\n",
        "print(model.intercept_)\n",
        "print(model.coef_)"
      ]
    },
    {
      "cell_type": "markdown",
      "metadata": {
        "id": "hAcmlbV1PQNT"
      },
      "source": [
        "Here the $y$ data is constructed from three random $x$ values, and the linear regression recovers the coefficients used to construct the data.\n",
        "\n",
        "In this way, we can use the single ``LinearRegression`` estimator to fit lines, planes, or hyperplanes to our data.\n",
        "It still appears that this approach would be limited to strictly linear relationships between variables, but it turns out we can relax this as well."
      ]
    },
    {
      "cell_type": "markdown",
      "metadata": {
        "id": "1A54ypNSv6eU"
      },
      "source": [
        "# Linear regression and quality of fit\n",
        "\n",
        "\n",
        "https://github.com/kirenz/linear-regression/blob/master/python-regression-tutorial.ipynb"
      ]
    },
    {
      "cell_type": "markdown",
      "metadata": {
        "id": "p92PC8rQv6eV"
      },
      "source": [
        "In this application we cover linear regression - the fundamental starting point for all regression methods - and how to evaluate the quality of fit of a regression model. Therefore, we quantify the extent to which the predicted outcome value for a given observation is close to the true outcome value for that observation. In the regression setting, the most commonly-used measure is the mean squared error (MSE), which we will cover in detail.\n",
        "\n",
        "One of the simplest models we use in statistics is the mean. It is a (simple) model because it represents a summary of data. Therefore, we use the mean as a baseline model and compare the quality of fit between the mean and a simple linear regression model with only one predictor. In our application, we use a sample of 20 adult german women from whom we obtained their height and the average height of their parents (height_parents).\n",
        "\n",
        "Data description (n = 20, p = 5); Variables: name, unique identification number (id), height, average height of parents (height_parents), gender.\n",
        "\n",
        "\n",
        "Source\n",
        "\n",
        "The statistical explanations in this tutorial are mainly based on Field (2018).\n",
        "\n",
        "Field, A. (2018). Discovering statistics using IBM SPSS statistics. Thousand Oaks, CA."
      ]
    },
    {
      "cell_type": "markdown",
      "metadata": {
        "id": "0ZT-jhKvv6eV"
      },
      "source": [
        "# a. Import data\n",
        "\n",
        "Take the variable of the other parent"
      ]
    },
    {
      "cell_type": "code",
      "execution_count": null,
      "metadata": {
        "id": "NwaKUI0Lv6eV"
      },
      "outputs": [],
      "source": [
        "# Instead of importing data, we will create our own data\n",
        "df = pd.DataFrame({ 'name': pd.Categorical([ \"Stefanie\", \"Petra\", \"Stefanie\", \n",
        "                                             \"Manuela\", \"Nadine\", \"Sophia\",  \n",
        "                                             \"Ellen\", \"Emilia\", \"Lina\", \n",
        "                                             \"Marie\", \"Lena\", \"Mila\",    \n",
        "                                             \"Ida\", \"Ella\", \"Pia\", \n",
        "                                             \"Sarah \", \"Lia\", \"Lotta\", \n",
        "                                             \"Emma\", \"Lina\"]),\n",
        "                       'id': pd.Categorical([\"1\", \"2\", \"3\", \"4\", \"5\", \"6\",  \n",
        "                                             \"7\", \"8\", \"9\", \"10\", \"11\", \"12\",    \n",
        "                                             \"13\", \"14\", \"15\", \"16 \", \"17\", \"18\", \n",
        "                                             \"19\", \"20\"]),\n",
        "                          'height': np.array([162, 163, 163, 164, 164, 164, 164, 165, \n",
        "                                              165, 165, 165, 165, 165, 166, 166, 166,\n",
        "                                              166, 167, 167, 168],dtype='int32'),\n",
        "                  'height_parents': np.array([161, 163, 163, 165, 163, 164, 164, 165, \n",
        "                                              165, 165, 166, 167, 165, 166, 166, 166,\n",
        "                                              166, 166, 167, 168],dtype='int32'),\n",
        "                                    'gender': 'female' })\n",
        "\n",
        "#pd.categorical : n differnt elements of category x\n"
      ]
    },
    {
      "cell_type": "markdown",
      "metadata": {
        "id": "Q8S_LKHqv6eV"
      },
      "source": [
        "# b. Data inspection"
      ]
    },
    {
      "cell_type": "code",
      "execution_count": null,
      "metadata": {
        "id": "Y-ljSTAvv6eW",
        "outputId": "7ec613c3-9aa6-4d26-820b-e2c96fb14b85"
      },
      "outputs": [
        {
          "data": {
            "text/plain": [
              "Index(['name', 'id', 'height', 'height_parents', 'gender'], dtype='object')"
            ]
          },
          "execution_count": 6,
          "metadata": {},
          "output_type": "execute_result"
        }
      ],
      "source": [
        "# show all variables in the data set\n",
        "df.columns"
      ]
    },
    {
      "cell_type": "code",
      "execution_count": null,
      "metadata": {
        "id": "GLrSpSXpv6eW",
        "outputId": "0b46b8bf-3670-4826-f9b4-38a87eb5e8ef"
      },
      "outputs": [
        {
          "data": {
            "text/html": [
              "<div>\n",
              "<style scoped>\n",
              "    .dataframe tbody tr th:only-of-type {\n",
              "        vertical-align: middle;\n",
              "    }\n",
              "\n",
              "    .dataframe tbody tr th {\n",
              "        vertical-align: top;\n",
              "    }\n",
              "\n",
              "    .dataframe thead th {\n",
              "        text-align: right;\n",
              "    }\n",
              "</style>\n",
              "<table border=\"1\" class=\"dataframe\">\n",
              "  <thead>\n",
              "    <tr style=\"text-align: right;\">\n",
              "      <th></th>\n",
              "      <th>name</th>\n",
              "      <th>id</th>\n",
              "      <th>height</th>\n",
              "      <th>height_parents</th>\n",
              "      <th>gender</th>\n",
              "    </tr>\n",
              "  </thead>\n",
              "  <tbody>\n",
              "    <tr>\n",
              "      <th>0</th>\n",
              "      <td>Stefanie</td>\n",
              "      <td>1</td>\n",
              "      <td>162</td>\n",
              "      <td>161</td>\n",
              "      <td>female</td>\n",
              "    </tr>\n",
              "    <tr>\n",
              "      <th>1</th>\n",
              "      <td>Petra</td>\n",
              "      <td>2</td>\n",
              "      <td>163</td>\n",
              "      <td>163</td>\n",
              "      <td>female</td>\n",
              "    </tr>\n",
              "    <tr>\n",
              "      <th>2</th>\n",
              "      <td>Stefanie</td>\n",
              "      <td>3</td>\n",
              "      <td>163</td>\n",
              "      <td>163</td>\n",
              "      <td>female</td>\n",
              "    </tr>\n",
              "    <tr>\n",
              "      <th>3</th>\n",
              "      <td>Manuela</td>\n",
              "      <td>4</td>\n",
              "      <td>164</td>\n",
              "      <td>165</td>\n",
              "      <td>female</td>\n",
              "    </tr>\n",
              "    <tr>\n",
              "      <th>4</th>\n",
              "      <td>Nadine</td>\n",
              "      <td>5</td>\n",
              "      <td>164</td>\n",
              "      <td>163</td>\n",
              "      <td>female</td>\n",
              "    </tr>\n",
              "    <tr>\n",
              "      <th>5</th>\n",
              "      <td>Sophia</td>\n",
              "      <td>6</td>\n",
              "      <td>164</td>\n",
              "      <td>164</td>\n",
              "      <td>female</td>\n",
              "    </tr>\n",
              "    <tr>\n",
              "      <th>6</th>\n",
              "      <td>Ellen</td>\n",
              "      <td>7</td>\n",
              "      <td>164</td>\n",
              "      <td>164</td>\n",
              "      <td>female</td>\n",
              "    </tr>\n",
              "    <tr>\n",
              "      <th>7</th>\n",
              "      <td>Emilia</td>\n",
              "      <td>8</td>\n",
              "      <td>165</td>\n",
              "      <td>165</td>\n",
              "      <td>female</td>\n",
              "    </tr>\n",
              "    <tr>\n",
              "      <th>8</th>\n",
              "      <td>Lina</td>\n",
              "      <td>9</td>\n",
              "      <td>165</td>\n",
              "      <td>165</td>\n",
              "      <td>female</td>\n",
              "    </tr>\n",
              "    <tr>\n",
              "      <th>9</th>\n",
              "      <td>Marie</td>\n",
              "      <td>10</td>\n",
              "      <td>165</td>\n",
              "      <td>165</td>\n",
              "      <td>female</td>\n",
              "    </tr>\n",
              "  </tbody>\n",
              "</table>\n",
              "</div>"
            ],
            "text/plain": [
              "       name  id  height  height_parents  gender\n",
              "0  Stefanie   1     162             161  female\n",
              "1     Petra   2     163             163  female\n",
              "2  Stefanie   3     163             163  female\n",
              "3   Manuela   4     164             165  female\n",
              "4    Nadine   5     164             163  female\n",
              "5    Sophia   6     164             164  female\n",
              "6     Ellen   7     164             164  female\n",
              "7    Emilia   8     165             165  female\n",
              "8      Lina   9     165             165  female\n",
              "9     Marie  10     165             165  female"
            ]
          },
          "execution_count": 7,
          "metadata": {},
          "output_type": "execute_result"
        }
      ],
      "source": [
        "# show the first 5 rows (i.e. head of the DataFrame)\n",
        "df.head(10)"
      ]
    },
    {
      "cell_type": "code",
      "execution_count": null,
      "metadata": {
        "id": "2Uz8phZqv6eW",
        "outputId": "4682b125-72de-4760-9f8a-cc27cc248adc"
      },
      "outputs": [
        {
          "data": {
            "text/plain": [
              "20"
            ]
          },
          "execution_count": 8,
          "metadata": {},
          "output_type": "execute_result"
        }
      ],
      "source": [
        "# show the lenght of the variable id (i.e. the number of observations)\n",
        "len(df[\"id\"])"
      ]
    },
    {
      "cell_type": "code",
      "execution_count": null,
      "metadata": {
        "id": "OlnY2aSEv6eX"
      },
      "outputs": [],
      "source": [
        "# we don't need the variable gender \n",
        "df = df.drop('gender', axis=1)"
      ]
    },
    {
      "cell_type": "code",
      "execution_count": null,
      "metadata": {
        "id": "B65zj6sTv6eX",
        "outputId": "c28d6bfd-7b93-4c7c-9e29-b66fd0c1287e"
      },
      "outputs": [
        {
          "data": {
            "image/png": "[encoded data removed]",
            "text/plain": [
              "<Figure size 432x288 with 1 Axes>"
            ]
          },
          "metadata": {},
          "output_type": "display_data"
        }
      ],
      "source": [
        "#Handle missing values\n",
        "\n",
        "\n",
        "# show missing values (missing values - if present - will be displayed in yellow )\n",
        "sns.heatmap(df.isnull(),yticklabels=False,cbar=False,cmap='viridis');"
      ]
    },
    {
      "cell_type": "code",
      "execution_count": null,
      "metadata": {
        "id": "IXAVCoIDv6eX",
        "outputId": "e755b05b-3a81-43c3-f942-a4a8e5217b5c"
      },
      "outputs": [
        {
          "name": "stdout",
          "output_type": "stream",
          "text": [
            "name              0\n",
            "id                0\n",
            "height            0\n",
            "height_parents    0\n",
            "dtype: int64\n"
          ]
        }
      ],
      "source": [
        "print(df.isnull().sum())"
      ]
    },
    {
      "cell_type": "markdown",
      "metadata": {
        "id": "vOt2ziNUPQNU"
      },
      "source": [
        "## Relationship between variables"
      ]
    },
    {
      "cell_type": "code",
      "execution_count": null,
      "metadata": {
        "id": "7MN-gdSYv6eY",
        "outputId": "65fcc76d-5c5b-4154-916f-ea1f71de362b"
      },
      "outputs": [
        {
          "data": {
            "image/png": "[encoded data removed]",
            "text/plain": [
              "<Figure size 432x432 with 3 Axes>"
            ]
          },
          "metadata": {},
          "output_type": "display_data"
        }
      ],
      "source": [
        "# check relationship with a joint plot\n",
        "sns.jointplot(x=\"height_parents\", y=\"height\", data=df, stat_func=None);"
      ]
    },
    {
      "cell_type": "markdown",
      "metadata": {
        "id": "m4hpvyRRv6eY"
      },
      "source": [
        "We can observe a strong relationship between the average height of the parents and the height of their daughter. Hence, it would make sense to use the variable \"height_parents\" as a predictor for the outcome variable \"height\" in a statistical model."
      ]
    },
    {
      "cell_type": "markdown",
      "metadata": {
        "id": "RBUxsjMQv6eY"
      },
      "source": [
        "## Model\n",
        "\n",
        "If we are interested in discovering something about a phenomenon in the real world, we need to collect data to test predictions from our hypotheses about that phenomenon. Testing these hypotheses involves building statistical models of the phenomenon of interest.\n",
        "\n",
        "\n",
        "It is important that the model accurately represents the real world, otherwise any conclusions we extrapolate to the real-world will be meaningless. Hence, the statistical model should represent the data collected (the observed data) as closely as possible. \n",
        "\n",
        "$$Outcome_i = (Model) + error_i$$\n",
        "\n",
        "\n",
        "This equation means that the data we observe can be predicted from the model we choose to fit plus some amount of error. There are different terms that basically refer to **error** like **residual**, **deviation** or **deviance**. The degree to which a statistical model represents the data collected is known as the **fit of the model** which is closely related to the error of the model.\n",
        "\n",
        "\n",
        "If we’re interested only in summarizing the outcome, as we are when we compute a **mean**, then we won’t have any variables in the model, only a **parameter** (typically called *b*), so we could write our $Outcome_i = (Model) + error_i$ equation as:\n",
        "\n",
        "$Outcome_i = (b) + error_i$\n",
        "\n",
        "\n",
        "---\n",
        "\n",
        "Let's say we would like to compare the **quality of fit** of two models to predict height: the simple mean and a second model in which we use information about the average height of their parents as a predictor in a linear regression model.\n",
        "\n",
        "**Model 1: Mean**\n",
        "  * In the case of the **mean**, the *b* parameter is usually called $\\bar{x}$, which leads to:\n",
        "\n",
        "$height_i = (\\bar{x}) + error_i$\n",
        "  * with\n",
        "\n",
        "$\\bar{x} =  \\frac {\\sum_{i=1}^n x_{i}}{n}$\n",
        "\n",
        "**Model 2: Linear Regression**\n",
        "  * In our second model, we use the variable height of parents as predictor in a linear regression model:\n",
        "\n",
        "$height_i = (b_0 + b_i \\times heightparents_i ) + error_i$"
      ]
    },
    {
      "cell_type": "markdown",
      "metadata": {
        "id": "LS17cSldv6eY"
      },
      "source": [
        "## Model 1: Mean"
      ]
    },
    {
      "cell_type": "code",
      "execution_count": null,
      "metadata": {
        "id": "2qmuNHUiv6eY",
        "outputId": "ba23ab7b-a618-4ee2-ec37-d6409832eee8"
      },
      "outputs": [
        {
          "name": "stdout",
          "output_type": "stream",
          "text": [
            "165.0\n"
          ]
        }
      ],
      "source": [
        "# calculate the mean \n",
        "sum_x_i = df.height.sum() \n",
        "n = len(df[\"height\"])\n",
        "# formula for mean\n",
        "x_bar = sum_x_i / n\n",
        "print(x_bar)"
      ]
    },
    {
      "cell_type": "code",
      "execution_count": null,
      "metadata": {
        "id": "l56mDpKEv6eZ",
        "outputId": "e4a15284-979e-41dc-b87e-a0248949274d"
      },
      "outputs": [
        {
          "data": {
            "text/plain": [
              "165.0"
            ]
          },
          "execution_count": 27,
          "metadata": {},
          "output_type": "execute_result"
        }
      ],
      "source": [
        "# calculate the mean\n",
        "df[\"height\"].mean()"
      ]
    },
    {
      "cell_type": "code",
      "execution_count": null,
      "metadata": {
        "id": "Hj29cCONv6eZ",
        "outputId": "6008fc6b-7715-4aa6-9d67-220ef5e93314"
      },
      "outputs": [
        {
          "data": {
            "text/html": [
              "<div>\n",
              "<style scoped>\n",
              "    .dataframe tbody tr th:only-of-type {\n",
              "        vertical-align: middle;\n",
              "    }\n",
              "\n",
              "    .dataframe tbody tr th {\n",
              "        vertical-align: top;\n",
              "    }\n",
              "\n",
              "    .dataframe thead th {\n",
              "        text-align: right;\n",
              "    }\n",
              "</style>\n",
              "<table border=\"1\" class=\"dataframe\">\n",
              "  <thead>\n",
              "    <tr style=\"text-align: right;\">\n",
              "      <th></th>\n",
              "      <th>name</th>\n",
              "      <th>id</th>\n",
              "      <th>height</th>\n",
              "      <th>height_parents</th>\n",
              "      <th>average</th>\n",
              "    </tr>\n",
              "  </thead>\n",
              "  <tbody>\n",
              "    <tr>\n",
              "      <th>0</th>\n",
              "      <td>Stefanie</td>\n",
              "      <td>1</td>\n",
              "      <td>162</td>\n",
              "      <td>161</td>\n",
              "      <td>165.0</td>\n",
              "    </tr>\n",
              "    <tr>\n",
              "      <th>1</th>\n",
              "      <td>Petra</td>\n",
              "      <td>2</td>\n",
              "      <td>163</td>\n",
              "      <td>163</td>\n",
              "      <td>165.0</td>\n",
              "    </tr>\n",
              "    <tr>\n",
              "      <th>2</th>\n",
              "      <td>Stefanie</td>\n",
              "      <td>3</td>\n",
              "      <td>163</td>\n",
              "      <td>163</td>\n",
              "      <td>165.0</td>\n",
              "    </tr>\n",
              "    <tr>\n",
              "      <th>3</th>\n",
              "      <td>Manuela</td>\n",
              "      <td>4</td>\n",
              "      <td>164</td>\n",
              "      <td>165</td>\n",
              "      <td>165.0</td>\n",
              "    </tr>\n",
              "    <tr>\n",
              "      <th>4</th>\n",
              "      <td>Nadine</td>\n",
              "      <td>5</td>\n",
              "      <td>164</td>\n",
              "      <td>163</td>\n",
              "      <td>165.0</td>\n",
              "    </tr>\n",
              "  </tbody>\n",
              "</table>\n",
              "</div>"
            ],
            "text/plain": [
              "       name id  height  height_parents  average\n",
              "0  Stefanie  1     162             161    165.0\n",
              "1     Petra  2     163             163    165.0\n",
              "2  Stefanie  3     163             163    165.0\n",
              "3   Manuela  4     164             165    165.0\n",
              "4    Nadine  5     164             163    165.0"
            ]
          },
          "execution_count": 28,
          "metadata": {},
          "output_type": "execute_result"
        }
      ],
      "source": [
        "# add the mean (as \"average\") to our DataFrame\n",
        "df = df.assign(average = df.height.mean())\n",
        "df.head(5)"
      ]
    },
    {
      "cell_type": "code",
      "execution_count": null,
      "metadata": {
        "id": "UaXWkSQov6eZ",
        "outputId": "f5b2a9ce-1ea4-479a-f8a0-b9d3f5bfb53f"
      },
      "outputs": [
        {
          "data": {
            "image/png": "[encoded data removed]",
            "text/plain": [
              "<Figure size 432x288 with 1 Axes>"
            ]
          },
          "metadata": {},
          "output_type": "display_data"
        }
      ],
      "source": [
        "# create a scatterplot (plt)\n",
        "plt = sns.scatterplot(x=\"id\", y=\"height\",data=df);\n",
        "plt.set(xlabel='ID', ylabel='Height in cm', title='Error of th model');\n",
        "plt.plot([0, 20], [165, 165], linewidth=2, color='r');\n",
        "plt.text(1, 165.2,'mean = 165', rotation=0, color='r');"
      ]
    },
    {
      "cell_type": "markdown",
      "metadata": {
        "id": "-uiG4RwZv6eZ"
      },
      "source": [
        "# Model 2: Linear Regression"
      ]
    },
    {
      "cell_type": "code",
      "execution_count": null,
      "metadata": {
        "id": "E3dzDqLPv6ea"
      },
      "outputs": [],
      "source": [
        "import statsmodels.formula.api as smf\n",
        "\n",
        "# fit linear model with statsmodels.formula.api (with R-style formulas) \n",
        "lm = smf.ols(formula ='height ~ height_parents', data=df).fit()\n",
        "\n",
        "# add the regression predictions (as \"pred\") to our DataFrame\n",
        "df['pred'] = lm.predict()"
      ]
    },
    {
      "cell_type": "code",
      "execution_count": null,
      "metadata": {
        "id": "bpWVa3wpv6ea",
        "outputId": "d204a334-f347-4f3b-aafb-c8f633443e51"
      },
      "outputs": [
        {
          "data": {
            "text/html": [
              "<div>\n",
              "<style scoped>\n",
              "    .dataframe tbody tr th:only-of-type {\n",
              "        vertical-align: middle;\n",
              "    }\n",
              "\n",
              "    .dataframe tbody tr th {\n",
              "        vertical-align: top;\n",
              "    }\n",
              "\n",
              "    .dataframe thead th {\n",
              "        text-align: right;\n",
              "    }\n",
              "</style>\n",
              "<table border=\"1\" class=\"dataframe\">\n",
              "  <thead>\n",
              "    <tr style=\"text-align: right;\">\n",
              "      <th></th>\n",
              "      <th>name</th>\n",
              "      <th>id</th>\n",
              "      <th>height</th>\n",
              "      <th>height_parents</th>\n",
              "      <th>average</th>\n",
              "      <th>pred</th>\n",
              "    </tr>\n",
              "  </thead>\n",
              "  <tbody>\n",
              "    <tr>\n",
              "      <th>0</th>\n",
              "      <td>Stefanie</td>\n",
              "      <td>1</td>\n",
              "      <td>162</td>\n",
              "      <td>161</td>\n",
              "      <td>165.0</td>\n",
              "      <td>161.711048</td>\n",
              "    </tr>\n",
              "    <tr>\n",
              "      <th>1</th>\n",
              "      <td>Petra</td>\n",
              "      <td>2</td>\n",
              "      <td>163</td>\n",
              "      <td>163</td>\n",
              "      <td>165.0</td>\n",
              "      <td>163.335222</td>\n",
              "    </tr>\n",
              "    <tr>\n",
              "      <th>2</th>\n",
              "      <td>Stefanie</td>\n",
              "      <td>3</td>\n",
              "      <td>163</td>\n",
              "      <td>163</td>\n",
              "      <td>165.0</td>\n",
              "      <td>163.335222</td>\n",
              "    </tr>\n",
              "    <tr>\n",
              "      <th>3</th>\n",
              "      <td>Manuela</td>\n",
              "      <td>4</td>\n",
              "      <td>164</td>\n",
              "      <td>165</td>\n",
              "      <td>165.0</td>\n",
              "      <td>164.959396</td>\n",
              "    </tr>\n",
              "    <tr>\n",
              "      <th>4</th>\n",
              "      <td>Nadine</td>\n",
              "      <td>5</td>\n",
              "      <td>164</td>\n",
              "      <td>163</td>\n",
              "      <td>165.0</td>\n",
              "      <td>163.335222</td>\n",
              "    </tr>\n",
              "  </tbody>\n",
              "</table>\n",
              "</div>"
            ],
            "text/plain": [
              "       name id  height  height_parents  average        pred\n",
              "0  Stefanie  1     162             161    165.0  161.711048\n",
              "1     Petra  2     163             163    165.0  163.335222\n",
              "2  Stefanie  3     163             163    165.0  163.335222\n",
              "3   Manuela  4     164             165    165.0  164.959396\n",
              "4    Nadine  5     164             163    165.0  163.335222"
            ]
          },
          "execution_count": 35,
          "metadata": {},
          "output_type": "execute_result"
        }
      ],
      "source": [
        "df.head()"
      ]
    },
    {
      "cell_type": "markdown",
      "source": [
        "## Summary of the model outputs\n",
        "\n",
        "\n",
        "* R-Squared is a statistical measure of fit that indicates how much variation of a dependent variable is explained by the independent variable(s) in a regression model. It measures the goodness of fit of a regression model. Hence, a higher R-squared indicates the model is a good fit while a lower R-squared indicates the model is not a good fit.\n",
        "\n",
        "\n",
        "* Adjusted R-squared is used to determine how reliable the correlation is and how much it is determined by the addition of independent variables.It measures the proportion of variation explained by only those independent variables that really help in explaining the dependent variable. It penalizes you for adding independent variable that do not help in predicting the dependent variable.\n",
        "\n",
        "* The log-likelihood value of a regression model is a way to measure the goodness of fit for a model. The higher the value of the log-likelihood, the better a model fits a dataset. The log-likelihood value for a given model can range from negative infinity to positive infinity\n",
        "\n",
        "* AIC(Lower AIC scores are better) : The Akaike information criterion (AIC) is a mathematical method for evaluating how well a model fits the data it was generated from. ... AIC is calculated from: the number of independent variables used to build the model. the maximum likelihood estimate of the model (how well the model reproduces the data)\n",
        "\n",
        "* BIC : As complexity of the model increases, bic value increases and as likelihood increases, bic decreases. So, lower is better. Bayesian information criterion (BIC) is a criterion for model selection among a finite set of models."
      ],
      "metadata": {
        "id": "Iv9z--FEsN87"
      }
    },
    {
      "cell_type": "code",
      "execution_count": null,
      "metadata": {
        "id": "f06owVQLv6ea",
        "outputId": "ea4ff60b-3454-4ec1-d93f-c1034788f88f"
      },
      "outputs": [
        {
          "data": {
            "text/html": [
              "<table class=\"simpletable\">\n",
              "<caption>OLS Regression Results</caption>\n",
              "<tr>\n",
              "  <th>Dep. Variable:</th>         <td>height</td>      <th>  R-squared:         </th> <td>   0.831</td>\n",
              "</tr>\n",
              "<tr>\n",
              "  <th>Model:</th>                   <td>OLS</td>       <th>  Adj. R-squared:    </th> <td>   0.822</td>\n",
              "</tr>\n",
              "<tr>\n",
              "  <th>Method:</th>             <td>Least Squares</td>  <th>  F-statistic:       </th> <td>   88.78</td>\n",
              "</tr>\n",
              "<tr>\n",
              "  <th>Date:</th>             <td>Sat, 12 Feb 2022</td> <th>  Prob (F-statistic):</th> <td>2.21e-08</td>\n",
              "</tr>\n",
              "<tr>\n",
              "  <th>Time:</th>                 <td>16:08:15</td>     <th>  Log-Likelihood:    </th> <td> -17.995</td>\n",
              "</tr>\n",
              "<tr>\n",
              "  <th>No. Observations:</th>      <td>    20</td>      <th>  AIC:               </th> <td>   39.99</td>\n",
              "</tr>\n",
              "<tr>\n",
              "  <th>Df Residuals:</th>          <td>    18</td>      <th>  BIC:               </th> <td>   41.98</td>\n",
              "</tr>\n",
              "<tr>\n",
              "  <th>Df Model:</th>              <td>     1</td>      <th>                     </th>     <td> </td>   \n",
              "</tr>\n",
              "<tr>\n",
              "  <th>Covariance Type:</th>      <td>nonrobust</td>    <th>                     </th>     <td> </td>   \n",
              "</tr>\n",
              "</table>\n",
              "<table class=\"simpletable\">\n",
              "<tr>\n",
              "         <td></td>           <th>coef</th>     <th>std err</th>      <th>t</th>      <th>P>|t|</th>  <th>[0.025</th>    <th>0.975]</th>  \n",
              "</tr>\n",
              "<tr>\n",
              "  <th>Intercept</th>      <td>   30.9651</td> <td>   14.226</td> <td>    2.177</td> <td> 0.043</td> <td>    1.077</td> <td>   60.853</td>\n",
              "</tr>\n",
              "<tr>\n",
              "  <th>height_parents</th> <td>    0.8121</td> <td>    0.086</td> <td>    9.422</td> <td> 0.000</td> <td>    0.631</td> <td>    0.993</td>\n",
              "</tr>\n",
              "</table>\n",
              "<table class=\"simpletable\">\n",
              "<tr>\n",
              "  <th>Omnibus:</th>       <td> 4.700</td> <th>  Durbin-Watson:     </th> <td>   1.384</td>\n",
              "</tr>\n",
              "<tr>\n",
              "  <th>Prob(Omnibus):</th> <td> 0.095</td> <th>  Jarque-Bera (JB):  </th> <td>   2.492</td>\n",
              "</tr>\n",
              "<tr>\n",
              "  <th>Skew:</th>          <td>-0.684</td> <th>  Prob(JB):          </th> <td>   0.288</td>\n",
              "</tr>\n",
              "<tr>\n",
              "  <th>Kurtosis:</th>      <td> 4.058</td> <th>  Cond. No.          </th> <td>1.67e+04</td>\n",
              "</tr>\n",
              "</table><br/><br/>Warnings:<br/>[1] Standard Errors assume that the covariance matrix of the errors is correctly specified.<br/>[2] The condition number is large, 1.67e+04. This might indicate that there are<br/>strong multicollinearity or other numerical problems."
            ],
            "text/plain": [
              "<class 'statsmodels.iolib.summary.Summary'>\n",
              "\"\"\"\n",
              "                            OLS Regression Results                            \n",
              "==============================================================================\n",
              "Dep. Variable:                 height   R-squared:                       0.831\n",
              "Model:                            OLS   Adj. R-squared:                  0.822\n",
              "Method:                 Least Squares   F-statistic:                     88.78\n",
              "Date:                Sat, 12 Feb 2022   Prob (F-statistic):           2.21e-08\n",
              "Time:                        16:08:15   Log-Likelihood:                -17.995\n",
              "No. Observations:                  20   AIC:                             39.99\n",
              "Df Residuals:                      18   BIC:                             41.98\n",
              "Df Model:                           1                                         \n",
              "Covariance Type:            nonrobust                                         \n",
              "==================================================================================\n",
              "                     coef    std err          t      P>|t|      [0.025      0.975]\n",
              "----------------------------------------------------------------------------------\n",
              "Intercept         30.9651     14.226      2.177      0.043       1.077      60.853\n",
              "height_parents     0.8121      0.086      9.422      0.000       0.631       0.993\n",
              "==============================================================================\n",
              "Omnibus:                        4.700   Durbin-Watson:                   1.384\n",
              "Prob(Omnibus):                  0.095   Jarque-Bera (JB):                2.492\n",
              "Skew:                          -0.684   Prob(JB):                        0.288\n",
              "Kurtosis:                       4.058   Cond. No.                     1.67e+04\n",
              "==============================================================================\n",
              "\n",
              "Warnings:\n",
              "[1] Standard Errors assume that the covariance matrix of the errors is correctly specified.\n",
              "[2] The condition number is large, 1.67e+04. This might indicate that there are\n",
              "strong multicollinearity or other numerical problems.\n",
              "\"\"\""
            ]
          },
          "execution_count": 39,
          "metadata": {},
          "output_type": "execute_result"
        }
      ],
      "source": [
        "lm.summary()"
      ]
    },
    {
      "cell_type": "code",
      "execution_count": null,
      "metadata": {
        "id": "9pSolP2lv6ea"
      },
      "outputs": [],
      "source": [
        ""
      ]
    }
  ],
  "metadata": {
    "anaconda-cloud": {},
    "colab": {
      "name": "Cours 4 ML Linear-Regression.ipynb",
      "provenance": [],
      "collapsed_sections": []
    },
    "interpreter": {
      "hash": "d361e8bd3ab8be8f3ea65790adb41c2b64f49b1477d0d1af835155fecf213182"
    },
    "kernelspec": {
      "display_name": "Python 3",
      "language": "python",
      "name": "python3"
    },
    "language_info": {
      "codemirror_mode": {
        "name": "ipython",
        "version": 3
      },
      "file_extension": ".py",
      "mimetype": "text/x-python",
      "name": "python",
      "nbconvert_exporter": "python",
      "pygments_lexer": "ipython3",
      "version": "3.7.6"
    }
  },
  "nbformat": 4,
  "nbformat_minor": 0
}