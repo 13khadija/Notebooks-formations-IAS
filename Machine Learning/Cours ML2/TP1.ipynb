{
 "cells": [
  {
   "cell_type": "markdown",
   "metadata": {},
   "source": [
    "## TP1"
   ]
  },
  {
   "cell_type": "markdown",
   "metadata": {},
   "source": [
    "Le but de ce TP est de vous permettre d'appliquer les connaissances acquises lors des deux premières sessiosn.\n",
    "\n",
    "Pour cela, commencez d'abord par faire un clone du  [repertoire github dédié aux TP](https://github.com/iassenegal221/TP-Formation-Institut-des-Algorithmes-du-S-n-gal), en utilisant la commande ci-dessous :\n",
    "\n",
    "git clone https://github.com/iassenegal221/TP-Formation-Institut-des-Algorithmes-du-S-n-gal.git\n",
    "\n",
    "Le repertoire se télécharge et vous pouvez ainsi travailler  sur le notebook et les données qui se trouvent dedans.\n",
    "\n",
    "Nb: Les questions du TP sont en début du notebook mentionné ci-dessus."
   ]
  },
  {
   "cell_type": "code",
   "execution_count": null,
   "metadata": {},
   "outputs": [],
   "source": []
  }
 ],
 "metadata": {
  "kernelspec": {
   "display_name": "Python 3",
   "language": "python",
   "name": "python3"
  },
  "language_info": {
   "codemirror_mode": {
    "name": "ipython",
    "version": 3
   },
   "file_extension": ".py",
   "mimetype": "text/x-python",
   "name": "python",
   "nbconvert_exporter": "python",
   "pygments_lexer": "ipython3",
   "version": "3.7.6"
  }
 },
 "nbformat": 4,
 "nbformat_minor": 4
}
